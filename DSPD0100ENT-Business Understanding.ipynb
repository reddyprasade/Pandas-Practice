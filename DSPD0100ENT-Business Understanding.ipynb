{
 "cells": [
  {
   "cell_type": "markdown",
   "metadata": {},
   "source": [
    "#  Data Science Process (DSP)\n",
    "The business understanding stage of the  Data Science Process (DSP). This process provides a recommended lifecycle that you can use to structure your data-science projects.\n",
    "\n",
    "**Goals**\n",
    "* Specify the key variables that are to serve as the model targets and whose related metrics are used determine the success of the project.\n",
    "* Identify the relevant data sources that the business has access to or needs to obtain.\n",
    "\n",
    "#### How to do it\n",
    "There are two main tasks addressed in this stage:\n",
    "\n",
    "* **Define objectives:** Work with your customer and other stakeholders to understand and identify the business problems. Formulate questions that define the business goals that the data science techniques can target.\n",
    "* **Identify data sources:** Find the relevant data that helps you answer the questions that define the objectives of the project.\n",
    "\n",
    "#### Define objectives\n",
    "1. A central objective of this step is to identify the key business variables that the analysis needs to predict. We refer to these variables as the model targets, and we use the metrics associated with them to determine the success of the project. Two examples of such targets are sales forecasts or the probability of an order being fraudulent.\n",
    "\n",
    "2. Define the project goals by asking and refining \"sharp\" questions that are relevant, specific, and unambiguous. Data science is a process that uses names and numbers to answer such questions. You typically use data science or machine learning to answer five types of questions:\n",
    "\n",
    "    * How much or how many? (regression)\n",
    "    * Which category? (classification)\n",
    "    * Which group? (clustering)\n",
    "    * Is this weird? (anomaly detection)\n",
    "    * Which option should be taken? (recommendation)\n",
    "Determine which of these questions you're asking and how answering it achieves your business goals.\n",
    "\n",
    "3. Define the project team by specifying the roles and responsibilities of its members. Develop a high-level milestone plan that you iterate on as you discover more information.\n",
    "\n",
    "4. Define the success metrics. For example, you might want to achieve a customer churn prediction. You need an accuracy rate of \"x\" percent by the end of this three-month project. With this data, you can offer customer promotions to reduce churn. The metrics must be **SMART**:\n",
    "\n",
    "* **S**pecific\n",
    "* **M**easurable\n",
    "* **A**chievable\n",
    "* **R**elevant\n",
    "* **T**ime-bound\n",
    "\n",
    "#### Identify data sources\n",
    "Identify data sources that contain known examples of answers to your sharp questions. Look for the following data:\n",
    "\n",
    "* Data that's relevant to the question. Do you have measures of the target and features that are related to the target?\n",
    "* Data that's an accurate measure of your model target and the features of interest.\n",
    "For example, you might find that the existing systems need to collect and log additional kinds of data to address the problem and achieve the project goals. In this situation, you might want to look for external data sources or update your systems to collect new data.\n",
    "\n",
    "#### Artifacts\n",
    "Here are the deliverables in this stage:\n",
    "\n",
    "* **Charter document:** A standard template is provided in the TDSP project structure definition. The charter document is a living document. You update the template throughout the project as you make new discoveries and as business requirements change. The key is to iterate upon this document, adding more detail, as you progress through the discovery process. Keep the customer and other stakeholders involved in making the changes and clearly communicate the reasons for the changes to them.\n",
    "* **Data sources:** The Raw data sources section of the Data definitions report that's found in the TDSP project Data report folder contains the data sources. This section specifies the original and destination locations for the raw data. In later stages, you fill in additional details like the scripts to move the data to your analytic environment.\n",
    "* **Data dictionaries:** This document provides descriptions of the data that's provided by the client. These descriptions include information about the schema (the data types and information on the validation rules, if any) and the entity-relation diagrams, if available.\n",
    "\n",
    "\n",
    "<img src='https://lh3.googleusercontent.com/-aOkQ7qExbEY/XdtGI_BFQ8I/AAAAAAAAkk4/Nyo1dzF0ByEFzDS5CQaV4ODCmBHOYB78ACK8BGAsYHg/s0/2019-11-24.png'/>"
   ]
  },
  {
   "cell_type": "markdown",
   "metadata": {},
   "source": [
    "![](https://miro.medium.com/max/960/0*ioPow2hH8FIyZKzp.png)"
   ]
  }
 ],
 "metadata": {
  "kernelspec": {
   "display_name": "Python 3",
   "language": "python",
   "name": "python3"
  },
  "language_info": {
   "codemirror_mode": {
    "name": "ipython",
    "version": 3
   },
   "file_extension": ".py",
   "mimetype": "text/x-python",
   "name": "python",
   "nbconvert_exporter": "python",
   "pygments_lexer": "ipython3",
   "version": "3.6.8"
  }
 },
 "nbformat": 4,
 "nbformat_minor": 4
}
